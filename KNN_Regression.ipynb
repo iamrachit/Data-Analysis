{
  "nbformat": 4,
  "nbformat_minor": 0,
  "metadata": {
    "colab": {
      "name": "KNN_Regression.ipynb",
      "provenance": []
    },
    "kernelspec": {
      "name": "python3",
      "display_name": "Python 3"
    }
  },
  "cells": [
    {
      "cell_type": "markdown",
      "metadata": {
        "id": "c3ENyyqN_R5H"
      },
      "source": [
        "Import Datasets "
      ]
    },
    {
      "cell_type": "code",
      "metadata": {
        "id": "vw6yfQnw4QXs"
      },
      "source": [
        "from sklearn.datasets import load_boston \r\n",
        "data = load_boston()"
      ],
      "execution_count": 2,
      "outputs": []
    },
    {
      "cell_type": "code",
      "metadata": {
        "colab": {
          "base_uri": "https://localhost:8080/"
        },
        "id": "FDEteNP-_NDE",
        "outputId": "4664e1cf-f4fc-4820-f337-6dc9949ef251"
      },
      "source": [
        "print(data.DESCR)"
      ],
      "execution_count": 3,
      "outputs": [
        {
          "output_type": "stream",
          "text": [
            ".. _boston_dataset:\n",
            "\n",
            "Boston house prices dataset\n",
            "---------------------------\n",
            "\n",
            "**Data Set Characteristics:**  \n",
            "\n",
            "    :Number of Instances: 506 \n",
            "\n",
            "    :Number of Attributes: 13 numeric/categorical predictive. Median Value (attribute 14) is usually the target.\n",
            "\n",
            "    :Attribute Information (in order):\n",
            "        - CRIM     per capita crime rate by town\n",
            "        - ZN       proportion of residential land zoned for lots over 25,000 sq.ft.\n",
            "        - INDUS    proportion of non-retail business acres per town\n",
            "        - CHAS     Charles River dummy variable (= 1 if tract bounds river; 0 otherwise)\n",
            "        - NOX      nitric oxides concentration (parts per 10 million)\n",
            "        - RM       average number of rooms per dwelling\n",
            "        - AGE      proportion of owner-occupied units built prior to 1940\n",
            "        - DIS      weighted distances to five Boston employment centres\n",
            "        - RAD      index of accessibility to radial highways\n",
            "        - TAX      full-value property-tax rate per $10,000\n",
            "        - PTRATIO  pupil-teacher ratio by town\n",
            "        - B        1000(Bk - 0.63)^2 where Bk is the proportion of blacks by town\n",
            "        - LSTAT    % lower status of the population\n",
            "        - MEDV     Median value of owner-occupied homes in $1000's\n",
            "\n",
            "    :Missing Attribute Values: None\n",
            "\n",
            "    :Creator: Harrison, D. and Rubinfeld, D.L.\n",
            "\n",
            "This is a copy of UCI ML housing dataset.\n",
            "https://archive.ics.uci.edu/ml/machine-learning-databases/housing/\n",
            "\n",
            "\n",
            "This dataset was taken from the StatLib library which is maintained at Carnegie Mellon University.\n",
            "\n",
            "The Boston house-price data of Harrison, D. and Rubinfeld, D.L. 'Hedonic\n",
            "prices and the demand for clean air', J. Environ. Economics & Management,\n",
            "vol.5, 81-102, 1978.   Used in Belsley, Kuh & Welsch, 'Regression diagnostics\n",
            "...', Wiley, 1980.   N.B. Various transformations are used in the table on\n",
            "pages 244-261 of the latter.\n",
            "\n",
            "The Boston house-price data has been used in many machine learning papers that address regression\n",
            "problems.   \n",
            "     \n",
            ".. topic:: References\n",
            "\n",
            "   - Belsley, Kuh & Welsch, 'Regression diagnostics: Identifying Influential Data and Sources of Collinearity', Wiley, 1980. 244-261.\n",
            "   - Quinlan,R. (1993). Combining Instance-Based and Model-Based Learning. In Proceedings on the Tenth International Conference of Machine Learning, 236-243, University of Massachusetts, Amherst. Morgan Kaufmann.\n",
            "\n"
          ],
          "name": "stdout"
        }
      ]
    },
    {
      "cell_type": "code",
      "metadata": {
        "id": "WT7M8vLc_Xal"
      },
      "source": [
        "X = data.data\r\n",
        "Y = data.target\r\n"
      ],
      "execution_count": 5,
      "outputs": []
    },
    {
      "cell_type": "markdown",
      "metadata": {
        "id": "xMDECe7rJDse"
      },
      "source": [
        "Train - Test Split "
      ]
    },
    {
      "cell_type": "code",
      "metadata": {
        "id": "oJN2thEeI80c"
      },
      "source": [
        "from sklearn.model_selection import train_test_split\r\n",
        "Xtrn,Xtst,Ytrn,Ytst = train_test_split(X,Y,train_size = 0.9 , random_state = 10)"
      ],
      "execution_count": 6,
      "outputs": []
    },
    {
      "cell_type": "code",
      "metadata": {
        "colab": {
          "base_uri": "https://localhost:8080/"
        },
        "id": "eJHnxZi6Ja2U",
        "outputId": "34c10550-f26a-45f0-add7-a99434b8836f"
      },
      "source": [
        "print(Xtrn.shape)\r\n",
        "print(Ytrn.shape)\r\n",
        "print(Xtst.shape)\r\n",
        "print(Ytst.shape)"
      ],
      "execution_count": 8,
      "outputs": [
        {
          "output_type": "stream",
          "text": [
            "(455, 13)\n",
            "(455,)\n",
            "(51, 13)\n",
            "(51,)\n"
          ],
          "name": "stdout"
        }
      ]
    },
    {
      "cell_type": "markdown",
      "metadata": {
        "id": "s-UxsoGjOi_a"
      },
      "source": [
        "Select the value of k "
      ]
    },
    {
      "cell_type": "code",
      "metadata": {
        "colab": {
          "base_uri": "https://localhost:8080/"
        },
        "id": "isfhxQrBJobn",
        "outputId": "46171b80-8b05-4fd0-bc6a-454b424f197f"
      },
      "source": [
        "import numpy as np \r\n",
        "from sklearn.neighbors import KNeighborsRegressor\r\n",
        "from sklearn import metrics \r\n",
        "rmse_val = [] # to store rmse values for different k \r\n",
        "for K in range(40):\r\n",
        "  K = K + 1\r\n",
        "  model = KNeighborsRegressor(n_neighbors = K)\r\n",
        "  model.fit(Xtrn,Ytrn) # fit the model \r\n",
        "  pred = model.predict(Xtst) # make prediction on test set \r\n",
        "  error = np.sqrt(metrics.mean_squared_error(Ytst,pred)) # calculate rmse\r\n",
        "  rmse_val.append(error) #store rmse values\r\n",
        "  print('RMSE value for k =',K,'is:' ,error)\r\n",
        "    \r\n"
      ],
      "execution_count": 11,
      "outputs": [
        {
          "output_type": "stream",
          "text": [
            "RMSE value for k = 1 is: 7.831096885582028\n",
            "RMSE value for k = 2 is: 8.212523315990419\n",
            "RMSE value for k = 3 is: 6.889823887634167\n",
            "RMSE value for k = 4 is: 6.748836137860088\n",
            "RMSE value for k = 5 is: 6.555881658001881\n",
            "RMSE value for k = 6 is: 6.678795747450702\n",
            "RMSE value for k = 7 is: 6.7819916074900615\n",
            "RMSE value for k = 8 is: 6.969207483005255\n",
            "RMSE value for k = 9 is: 7.12419513900348\n",
            "RMSE value for k = 10 is: 7.141672649687474\n",
            "RMSE value for k = 11 is: 7.146324440297669\n",
            "RMSE value for k = 12 is: 7.233379830277348\n",
            "RMSE value for k = 13 is: 7.446423791898266\n",
            "RMSE value for k = 14 is: 7.5706126350691125\n",
            "RMSE value for k = 15 is: 7.789130575348297\n",
            "RMSE value for k = 16 is: 7.948984714812548\n",
            "RMSE value for k = 17 is: 8.063445201496597\n",
            "RMSE value for k = 18 is: 8.12025907714951\n",
            "RMSE value for k = 19 is: 8.117561200749705\n",
            "RMSE value for k = 20 is: 8.236210222154932\n",
            "RMSE value for k = 21 is: 8.257759624461341\n",
            "RMSE value for k = 22 is: 8.354768340708198\n",
            "RMSE value for k = 23 is: 8.332724267004311\n",
            "RMSE value for k = 24 is: 8.427587576914151\n",
            "RMSE value for k = 25 is: 8.525956198458868\n",
            "RMSE value for k = 26 is: 8.601586262318172\n",
            "RMSE value for k = 27 is: 8.59699254099279\n",
            "RMSE value for k = 28 is: 8.65950781397142\n",
            "RMSE value for k = 29 is: 8.631442772864633\n",
            "RMSE value for k = 30 is: 8.651913788315028\n",
            "RMSE value for k = 31 is: 8.722370655508398\n",
            "RMSE value for k = 32 is: 8.73786240184371\n",
            "RMSE value for k = 33 is: 8.780652498406523\n",
            "RMSE value for k = 34 is: 8.83906353650974\n",
            "RMSE value for k = 35 is: 8.863159824849845\n",
            "RMSE value for k = 36 is: 8.921682461147414\n",
            "RMSE value for k = 37 is: 8.948699153823389\n",
            "RMSE value for k = 38 is: 8.954202915426519\n",
            "RMSE value for k = 39 is: 8.978723444933408\n",
            "RMSE value for k = 40 is: 8.98753921560072\n"
          ],
          "name": "stdout"
        }
      ]
    },
    {
      "cell_type": "code",
      "metadata": {
        "colab": {
          "base_uri": "https://localhost:8080/",
          "height": 282
        },
        "id": "qJjHClAwP9d5",
        "outputId": "33e75152-53a2-43d1-e5a9-f659fdc2a25e"
      },
      "source": [
        "# plotting the rmse values against k values \r\n",
        "import pandas as pd \r\n",
        "curve = pd.DataFrame(rmse_val) #elbow curve \r\n",
        "curve.plot()"
      ],
      "execution_count": 13,
      "outputs": [
        {
          "output_type": "execute_result",
          "data": {
            "text/plain": [
              "<matplotlib.axes._subplots.AxesSubplot at 0x7f15f707ff60>"
            ]
          },
          "metadata": {
            "tags": []
          },
          "execution_count": 13
        },
        {
          "output_type": "display_data",
          "data": {
            "image/png": "[encoded data removed]",
            "text/plain": [
              "<Figure size 432x288 with 1 Axes>"
            ]
          },
          "metadata": {
            "tags": [],
            "needs_background": "light"
          }
        }
      ]
    },
    {
      "cell_type": "markdown",
      "metadata": {
        "id": "sBoXPSYIQt2v"
      },
      "source": [
        "Training KNN Regressor"
      ]
    },
    {
      "cell_type": "code",
      "metadata": {
        "colab": {
          "base_uri": "https://localhost:8080/"
        },
        "id": "Vr4wGfz9Qjpm",
        "outputId": "d06e0741-c131-417a-cdc6-e995b3e1b95e"
      },
      "source": [
        "model = KNeighborsRegressor(n_neighbors = 5)\r\n",
        "model.fit(Xtrn,Ytrn)"
      ],
      "execution_count": 14,
      "outputs": [
        {
          "output_type": "execute_result",
          "data": {
            "text/plain": [
              "KNeighborsRegressor(algorithm='auto', leaf_size=30, metric='minkowski',\n",
              "                    metric_params=None, n_jobs=None, n_neighbors=5, p=2,\n",
              "                    weights='uniform')"
            ]
          },
          "metadata": {
            "tags": []
          },
          "execution_count": 14
        }
      ]
    },
    {
      "cell_type": "markdown",
      "metadata": {
        "id": "AbCuzzC6RAzN"
      },
      "source": [
        "Evaluation of model"
      ]
    },
    {
      "cell_type": "code",
      "metadata": {
        "id": "aGZ7NGZAQ9Dj"
      },
      "source": [
        "Ypred = model.predict(Xtst)"
      ],
      "execution_count": 15,
      "outputs": []
    },
    {
      "cell_type": "code",
      "metadata": {
        "colab": {
          "base_uri": "https://localhost:8080/"
        },
        "id": "_rAOk_QuRGyU",
        "outputId": "a6401bf6-331f-488c-d7db-17dfe3c4c9b5"
      },
      "source": [
        "print(Ypred)\r\n",
        "print(Ytst)"
      ],
      "execution_count": 16,
      "outputs": [
        {
          "output_type": "stream",
          "text": [
            "[31.46 33.62 26.76 25.74 21.6  13.34 38.96 17.44 28.38 33.64 21.16 28.66\n",
            " 35.72 27.46 28.94 39.32 24.56 32.24 23.32 21.5  27.64 17.82 20.14 21.66\n",
            " 32.84 25.98 17.94 14.46 29.82 10.66 23.56 38.6  27.46 23.28 14.76 20.34\n",
            " 12.12 34.42 22.3  25.14 24.78 20.94 16.54 33.   21.72 29.4  24.66 16.72\n",
            " 30.84 17.42 28.72]\n",
            "[28.4 31.1 23.5 26.6 19.6 14.3 50.  14.3 20.7 37.6 20.4 27.5 36.2 32.\n",
            " 33.1 48.8 24.6 26.4 23.2 17.  41.3 14.9 18.5 25.  36.4 19.5 27.1 14.9\n",
            " 46.  17.9 30.3 31.6 23.1 24.7 16.7 18.3  8.4 37.3 22.1 22.  46.7 30.1\n",
            " 12.1 29.1 16.6 23.9 19.9 21.4 45.4 15.6 22.7]\n"
          ],
          "name": "stdout"
        }
      ]
    },
    {
      "cell_type": "markdown",
      "metadata": {
        "id": "5Q5b1HwBRUFx"
      },
      "source": [
        "Mean Absolute Error"
      ]
    },
    {
      "cell_type": "code",
      "metadata": {
        "id": "4QIDyzYHRK1-"
      },
      "source": [
        "from sklearn.metrics import mean_absolute_error"
      ],
      "execution_count": 17,
      "outputs": []
    },
    {
      "cell_type": "code",
      "metadata": {
        "colab": {
          "base_uri": "https://localhost:8080/"
        },
        "id": "PH3CDEfgRk2B",
        "outputId": "6e9db1e6-6477-4abc-9319-d90d55eb807e"
      },
      "source": [
        "mean_absolute_error(Ypred,Ytst)"
      ],
      "execution_count": 18,
      "outputs": [
        {
          "output_type": "execute_result",
          "data": {
            "text/plain": [
              "4.8921568627450975"
            ]
          },
          "metadata": {
            "tags": []
          },
          "execution_count": 18
        }
      ]
    },
    {
      "cell_type": "markdown",
      "metadata": {
        "id": "4gdtQfwnRqTr"
      },
      "source": [
        "Mean Squared Error"
      ]
    },
    {
      "cell_type": "code",
      "metadata": {
        "colab": {
          "base_uri": "https://localhost:8080/"
        },
        "id": "2S0GsU1DRozP",
        "outputId": "1f95ea8e-a5e4-45a2-cb1a-c8787703284f"
      },
      "source": [
        "metrics.mean_squared_error(Ypred,Ytst)"
      ],
      "execution_count": 20,
      "outputs": [
        {
          "output_type": "execute_result",
          "data": {
            "text/plain": [
              "42.97958431372549"
            ]
          },
          "metadata": {
            "tags": []
          },
          "execution_count": 20
        }
      ]
    },
    {
      "cell_type": "markdown",
      "metadata": {
        "id": "tQQ-_zDSR1Bx"
      },
      "source": [
        "Root Mean Squared Error"
      ]
    },
    {
      "cell_type": "code",
      "metadata": {
        "colab": {
          "base_uri": "https://localhost:8080/"
        },
        "id": "LADTZ6W7RxEJ",
        "outputId": "0ac7a75c-fa5d-40f9-dfb9-6ab170ac9b77"
      },
      "source": [
        "metrics.mean_squared_error(Ypred,Ytst)**.5"
      ],
      "execution_count": 22,
      "outputs": [
        {
          "output_type": "execute_result",
          "data": {
            "text/plain": [
              "6.555881658001881"
            ]
          },
          "metadata": {
            "tags": []
          },
          "execution_count": 22
        }
      ]
    },
    {
      "cell_type": "markdown",
      "metadata": {
        "id": "zMi76O1fSK13"
      },
      "source": [
        "Score"
      ]
    },
    {
      "cell_type": "code",
      "metadata": {
        "colab": {
          "base_uri": "https://localhost:8080/"
        },
        "id": "2uUlwXP4SBPN",
        "outputId": "41f6d2b0-ab07-49c3-f512-8d0dab1ac17d"
      },
      "source": [
        "scr = model.score(Xtst,Ytst)\r\n",
        "print(scr)"
      ],
      "execution_count": 24,
      "outputs": [
        {
          "output_type": "stream",
          "text": [
            "0.5658766767101384\n"
          ],
          "name": "stdout"
        }
      ]
    },
    {
      "cell_type": "markdown",
      "metadata": {
        "id": "-qRvNnK6SW5n"
      },
      "source": [
        "R2 Score"
      ]
    },
    {
      "cell_type": "code",
      "metadata": {
        "id": "rg6Wb7RlSQIb"
      },
      "source": [
        "r2 = metrics.r2_score(Ytst,Ypred)"
      ],
      "execution_count": 26,
      "outputs": []
    },
    {
      "cell_type": "code",
      "metadata": {
        "colab": {
          "base_uri": "https://localhost:8080/"
        },
        "id": "-Xf-lozdSUm0",
        "outputId": "68fb4197-0e89-40ba-f8d8-1145403f0a87"
      },
      "source": [
        "print(r2)"
      ],
      "execution_count": 27,
      "outputs": [
        {
          "output_type": "stream",
          "text": [
            "0.5658766767101384\n"
          ],
          "name": "stdout"
        }
      ]
    },
    {
      "cell_type": "code",
      "metadata": {
        "id": "rlcATB6fSj23"
      },
      "source": [
        ""
      ],
      "execution_count": null,
      "outputs": []
    }
  ]
}